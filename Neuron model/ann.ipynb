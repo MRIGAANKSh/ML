{
  "nbformat": 4,
  "nbformat_minor": 0,
  "metadata": {
    "colab": {
      "provenance": []
    },
    "kernelspec": {
      "name": "python3",
      "display_name": "Python 3"
    },
    "language_info": {
      "name": "python"
    }
  },
  "cells": [
    {
      "cell_type": "code",
      "execution_count": 17,
      "metadata": {
        "id": "1jwSol5hgqCy"
      },
      "outputs": [],
      "source": [
        "import tensorflow as tf\n",
        "from tensorflow import keras\n",
        "import matplotlib.pyplot as plt\n",
        "from tensorflow.keras.utils import to_categorical\n",
        "\n",
        "import numpy as np"
      ]
    },
    {
      "cell_type": "code",
      "source": [
        "tf.config.experimental.list_physical_devices()"
      ],
      "metadata": {
        "colab": {
          "base_uri": "https://localhost:8080/"
        },
        "id": "yHmbLJhOg0UF",
        "outputId": "8af6c92e-2c6c-421f-b0c4-8c2b35445e85"
      },
      "execution_count": 2,
      "outputs": [
        {
          "output_type": "execute_result",
          "data": {
            "text/plain": [
              "[PhysicalDevice(name='/physical_device:CPU:0', device_type='CPU')]"
            ]
          },
          "metadata": {},
          "execution_count": 2
        }
      ]
    },
    {
      "cell_type": "code",
      "source": [
        "(x_train,x_test),(y_train,y_test)=tf.keras.datasets.cifar10.load_data()"
      ],
      "metadata": {
        "colab": {
          "base_uri": "https://localhost:8080/"
        },
        "id": "Nf2aJ3tEhZOR",
        "outputId": "4cd2e27a-c8e4-4ef0-c6ef-651a8a420d55"
      },
      "execution_count": 3,
      "outputs": [
        {
          "output_type": "stream",
          "name": "stdout",
          "text": [
            "Downloading data from https://www.cs.toronto.edu/~kriz/cifar-10-python.tar.gz\n",
            "\u001b[1m170498071/170498071\u001b[0m \u001b[32m━━━━━━━━━━━━━━━━━━━━\u001b[0m\u001b[37m\u001b[0m \u001b[1m3s\u001b[0m 0us/step\n"
          ]
        }
      ]
    },
    {
      "cell_type": "code",
      "source": [
        "def plot_sample(index):\n",
        "    plt.figure(figsize = (10,1))\n",
        "    plt.imshow(x_train[index])"
      ],
      "metadata": {
        "id": "qJwV_kNlhjup"
      },
      "execution_count": 8,
      "outputs": []
    },
    {
      "cell_type": "code",
      "source": [
        "plot_sample(2)"
      ],
      "metadata": {
        "colab": {
          "base_uri": "https://localhost:8080/",
          "height": 142
        },
        "id": "pRQ7_Wo1hu8f",
        "outputId": "d226bcca-4cf2-471e-9564-c700a323393b"
      },
      "execution_count": 10,
      "outputs": [
        {
          "output_type": "display_data",
          "data": {
            "text/plain": [
              "<Figure size 1000x100 with 1 Axes>"
            ],
            "image/png": "[encoded data removed]"
          },
          "metadata": {}
        }
      ]
    },
    {
      "cell_type": "code",
      "source": [
        "\n",
        "classes = [\"airplane\",\"automobile\",\"bird\",\"cat\",\"deer\",\"dog\",\"frog\",\"horse\",\"ship\",\"truck\"]"
      ],
      "metadata": {
        "id": "XMmuDebgiTlP"
      },
      "execution_count": 11,
      "outputs": []
    },
    {
      "cell_type": "code",
      "source": [
        "x_train_scaled=x_train/255\n",
        "x_test_scaled=x_test/255"
      ],
      "metadata": {
        "id": "Q0kI7TXZif1h"
      },
      "execution_count": 12,
      "outputs": []
    },
    {
      "cell_type": "code",
      "source": [
        "import tensorflow as tf\n",
        "from tensorflow.keras.utils import to_categorical\n",
        "\n",
        "# Load CIFAR-10 dataset\n",
        "(x_train, y_train), (x_test, y_test) = tf.keras.datasets.cifar10.load_data()\n",
        "\n",
        "# Check shapes\n",
        "print(\"y_train shape before flattening:\", y_train.shape)\n",
        "print(\"y_test shape before flattening:\", y_test.shape)\n",
        "\n",
        "# Flatten the labels to 1D\n",
        "y_train = y_train.flatten()\n",
        "y_test = y_test.flatten()\n",
        "\n",
        "# Convert to one-hot encoding\n",
        "num_classes = 10\n",
        "y_train_categorical = to_categorical(y_train, num_classes=num_classes)\n",
        "y_test_categorical = to_categorical(y_test, num_classes=num_classes)\n",
        "\n",
        "print(\"y_train_categorical shape:\", y_train_categorical.shape)\n",
        "print(\"y_test_categorical shape:\", y_test_categorical.shape)\n"
      ],
      "metadata": {
        "colab": {
          "base_uri": "https://localhost:8080/"
        },
        "id": "yGvyWBGKijhf",
        "outputId": "57e67818-762e-4f79-fde0-43addd40eb6b"
      },
      "execution_count": 21,
      "outputs": [
        {
          "output_type": "stream",
          "name": "stdout",
          "text": [
            "y_train shape before flattening: (50000, 1)\n",
            "y_test shape before flattening: (10000, 1)\n",
            "y_train_categorical shape: (50000, 10)\n",
            "y_test_categorical shape: (10000, 10)\n"
          ]
        }
      ]
    },
    {
      "cell_type": "code",
      "source": [
        "model=keras.Sequential([\n",
        "    keras.layers.Flatten(input_shape=(32,32,3)),\n",
        "    keras.layers.Dense(3000,activation='relu'),\n",
        "    keras.layers.Dense(1000,activation='relu'),\n",
        "    keras.layers.Dense(10,activation='sigmoid'),\n",
        "])\n",
        "model.compile(optimizer='adam',\n",
        "              loss='categorical_crossentropy',\n",
        "              metrics=['accuracy'])\n",
        "model.fit(x_train_scaled,y_train_categorical,epochs=5)"
      ],
      "metadata": {
        "colab": {
          "base_uri": "https://localhost:8080/"
        },
        "id": "HfJ-ptGiitiv",
        "outputId": "bd510667-2c93-4a4b-e4fa-8039561e1700"
      },
      "execution_count": 23,
      "outputs": [
        {
          "output_type": "stream",
          "name": "stderr",
          "text": [
            "/usr/local/lib/python3.10/dist-packages/keras/src/layers/reshaping/flatten.py:37: UserWarning: Do not pass an `input_shape`/`input_dim` argument to a layer. When using Sequential models, prefer using an `Input(shape)` object as the first layer in the model instead.\n",
            "  super().__init__(**kwargs)\n"
          ]
        },
        {
          "output_type": "stream",
          "name": "stdout",
          "text": [
            "Epoch 1/5\n",
            "\u001b[1m1563/1563\u001b[0m \u001b[32m━━━━━━━━━━━━━━━━━━━━\u001b[0m\u001b[37m\u001b[0m \u001b[1m388s\u001b[0m 247ms/step - accuracy: 0.2706 - loss: 2.2916\n",
            "Epoch 2/5\n",
            "\u001b[1m1563/1563\u001b[0m \u001b[32m━━━━━━━━━━━━━━━━━━━━\u001b[0m\u001b[37m\u001b[0m \u001b[1m470s\u001b[0m 266ms/step - accuracy: 0.3987 - loss: 1.6750\n",
            "Epoch 3/5\n",
            "\u001b[1m1563/1563\u001b[0m \u001b[32m━━━━━━━━━━━━━━━━━━━━\u001b[0m\u001b[37m\u001b[0m \u001b[1m403s\u001b[0m 258ms/step - accuracy: 0.4308 - loss: 1.5829\n",
            "Epoch 4/5\n",
            "\u001b[1m1563/1563\u001b[0m \u001b[32m━━━━━━━━━━━━━━━━━━━━\u001b[0m\u001b[37m\u001b[0m \u001b[1m437s\u001b[0m 255ms/step - accuracy: 0.4521 - loss: 1.5255\n",
            "Epoch 5/5\n",
            "\u001b[1m1563/1563\u001b[0m \u001b[32m━━━━━━━━━━━━━━━━━━━━\u001b[0m\u001b[37m\u001b[0m \u001b[1m441s\u001b[0m 255ms/step - accuracy: 0.4703 - loss: 1.4832\n"
          ]
        },
        {
          "output_type": "execute_result",
          "data": {
            "text/plain": [
              "<keras.src.callbacks.history.History at 0x7d34a7637820>"
            ]
          },
          "metadata": {},
          "execution_count": 23
        }
      ]
    },
    {
      "cell_type": "code",
      "source": [
        "model.predict(x_test)"
      ],
      "metadata": {
        "colab": {
          "base_uri": "https://localhost:8080/"
        },
        "id": "5M86H7g_kmei",
        "outputId": "511b0c61-67c2-46a9-e0e2-8789a060bef7"
      },
      "execution_count": 25,
      "outputs": [
        {
          "output_type": "stream",
          "name": "stdout",
          "text": [
            "\u001b[1m313/313\u001b[0m \u001b[32m━━━━━━━━━━━━━━━━━━━━\u001b[0m\u001b[37m\u001b[0m \u001b[1m9s\u001b[0m 28ms/step\n"
          ]
        },
        {
          "output_type": "execute_result",
          "data": {
            "text/plain": [
              "array([[1.000000e+00, 0.000000e+00, 0.000000e+00, ..., 0.000000e+00,\n",
              "        1.000000e+00, 0.000000e+00],\n",
              "       [1.000000e+00, 1.000000e+00, 0.000000e+00, ..., 0.000000e+00,\n",
              "        1.000000e+00, 1.000000e+00],\n",
              "       [1.000000e+00, 1.000000e+00, 0.000000e+00, ..., 0.000000e+00,\n",
              "        1.000000e+00, 1.000000e+00],\n",
              "       ...,\n",
              "       [0.000000e+00, 0.000000e+00, 1.000000e+00, ..., 9.832282e-01,\n",
              "        1.000000e+00, 0.000000e+00],\n",
              "       [0.000000e+00, 0.000000e+00, 1.000000e+00, ..., 0.000000e+00,\n",
              "        0.000000e+00, 0.000000e+00],\n",
              "       [1.000000e+00, 0.000000e+00, 6.325861e-38, ..., 1.000000e+00,\n",
              "        0.000000e+00, 0.000000e+00]], dtype=float32)"
            ]
          },
          "metadata": {},
          "execution_count": 25
        }
      ]
    },
    {
      "cell_type": "code",
      "source": [
        "model.evaluate(x_test,y_test_categorical)"
      ],
      "metadata": {
        "colab": {
          "base_uri": "https://localhost:8080/"
        },
        "id": "F-3azYdYtCir",
        "outputId": "27222183-fbb0-443a-89b0-38c9d78b64bd"
      },
      "execution_count": 27,
      "outputs": [
        {
          "output_type": "stream",
          "name": "stdout",
          "text": [
            "\u001b[1m313/313\u001b[0m \u001b[32m━━━━━━━━━━━━━━━━━━━━\u001b[0m\u001b[37m\u001b[0m \u001b[1m10s\u001b[0m 33ms/step - accuracy: 0.4249 - loss: 190.9377\n"
          ]
        },
        {
          "output_type": "execute_result",
          "data": {
            "text/plain": [
              "[190.2212677001953, 0.4251999855041504]"
            ]
          },
          "metadata": {},
          "execution_count": 27
        }
      ]
    },
    {
      "cell_type": "code",
      "source": [],
      "metadata": {
        "id": "lGYjZdiotR9t"
      },
      "execution_count": null,
      "outputs": []
    }
  ]
}