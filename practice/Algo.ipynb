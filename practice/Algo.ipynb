{
 "cells": [
  {
   "cell_type": "code",
   "execution_count": 2,
   "id": "59a76f4f-925b-42b8-a32c-f8ceab1562fe",
   "metadata": {},
   "outputs": [],
   "source": [
    "from sklearn import datasets"
   ]
  },
  {
   "cell_type": "code",
   "execution_count": 6,
   "id": "95308d73-7160-43dd-8f4a-1e348cd11ff1",
   "metadata": {},
   "outputs": [],
   "source": [
    "iris_dataset=datasets.load_iris()"
   ]
  },
  {
   "cell_type": "code",
   "execution_count": 10,
   "id": "233a657f-1488-43cd-a4d2-8ea4921aff9a",
   "metadata": {},
   "outputs": [],
   "source": [
    "x=iris_dataset.data[:12]"
   ]
  },
  {
   "cell_type": "code",
   "execution_count": 16,
   "id": "70cd57a1-957a-4fd6-ba7c-55e28ed96fe3",
   "metadata": {},
   "outputs": [],
   "source": [
    "x_count=len(x.flat)\n",
    "x_min=x[:, 0].min()-.6\n",
    "x_max=x[:,0].max()+.7"
   ]
  },
  {
   "cell_type": "code",
   "execution_count": 18,
   "id": "6977995f-11d0-4bf0-a902-76da91f4403b",
   "metadata": {},
   "outputs": [
    {
     "data": {
      "text/plain": [
       "(48, 3.8000000000000003, 6.1000000000000005)"
      ]
     },
     "execution_count": 18,
     "metadata": {},
     "output_type": "execute_result"
    }
   ],
   "source": [
    "x_count,x_min,x_max"
   ]
  },
  {
   "cell_type": "code",
   "execution_count": 21,
   "id": "d5f77ada-5c29-443c-8b44-d09dc0762de5",
   "metadata": {},
   "outputs": [],
   "source": [
    "x_mean=x[:,0].mean()-.11"
   ]
  },
  {
   "cell_type": "code",
   "execution_count": 23,
   "id": "368be622-e4bc-41d3-a025-ad5d1cdf7fb7",
   "metadata": {},
   "outputs": [
    {
     "data": {
      "text/plain": [
       "4.789999999999999"
      ]
     },
     "execution_count": 23,
     "metadata": {},
     "output_type": "execute_result"
    }
   ],
   "source": [
    "x_mean"
   ]
  },
  {
   "cell_type": "code",
   "execution_count": null,
   "id": "015d3dea-b581-4cb8-92a7-cc70bbf980e2",
   "metadata": {},
   "outputs": [],
   "source": []
  }
 ],
 "metadata": {
  "kernelspec": {
   "display_name": "Python 3 (ipykernel)",
   "language": "python",
   "name": "python3"
  },
  "language_info": {
   "codemirror_mode": {
    "name": "ipython",
    "version": 3
   },
   "file_extension": ".py",
   "mimetype": "text/x-python",
   "name": "python",
   "nbconvert_exporter": "python",
   "pygments_lexer": "ipython3",
   "version": "3.12.7"
  }
 },
 "nbformat": 4,
 "nbformat_minor": 5
}
