{
 "cells": [
  {
   "cell_type": "code",
   "execution_count": null,
   "id": "8d1b859e-0809-4759-b857-bb9f850e4337",
   "metadata": {},
   "outputs": [],
   "source": []
  }
 ],
 "metadata": {
  "kernelspec": {
   "display_name": "",
   "name": ""
  },
  "language_info": {
   "name": ""
  }
 },
 "nbformat": 4,
 "nbformat_minor": 5
}
