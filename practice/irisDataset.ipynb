{
 "cells": [
  {
   "cell_type": "code",
   "execution_count": 2,
   "id": "c46006f3-b292-463c-b518-0e01c7ebecd4",
   "metadata": {},
   "outputs": [
    {
     "name": "stdout",
     "output_type": "stream",
     "text": [
      "python: 3.12.7 | packaged by Anaconda, Inc. | (main, Oct  4 2024, 13:17:27) [MSC v.1929 64 bit (AMD64)]\n",
      "scipy: 1.13.1\n",
      "numpy: 1.26.4\n",
      "matplotlib: 3.9.2\n",
      "numpy: 2.2.2\n",
      "sklearn: 1.5.1\n"
     ]
    }
   ],
   "source": [
    "#check version .....\n",
    "import sys\n",
    "print('python: {}'.format(sys.version))\n",
    "#scipy\n",
    "import scipy\n",
    "print('scipy: {}'.format(scipy.__version__))\n",
    "import numpy\n",
    "print('numpy: {}'.format(numpy.__version__))\n",
    "import matplotlib\n",
    "print('matplotlib: {}'.format(matplotlib.__version__))\n",
    "import pandas\n",
    "print('numpy: {}'.format(pandas.__version__))\n",
    "import sklearn\n",
    "print('sklearn: {}'.format(sklearn.__version__))"
   ]
  },
  {
   "cell_type": "code",
   "execution_count": 14,
   "id": "40d189b4-b265-4b14-8518-ba4c1e2a3948",
   "metadata": {},
   "outputs": [],
   "source": [
    "#load libraries\n",
    "import pandas as pd\n",
    "from pandas.plotting import scatter_matrix\n",
    "import matplotlib.pyplot as plt\n",
    "from sklearn import model_selection\n",
    "from sklearn.metrics import classification_report\n",
    "from sklearn.metrics import confusion_matrix\n",
    "from sklearn.metrics import accuracy_score\n",
    "from sklearn.linear_model import LogisticRegression\n",
    "from sklearn.tree import DecisionTreeClassifier\n",
    "from sklearn.neighbors import KNeighborsClassifier\n",
    "from sklearn.discriminant_analysis import LinearDiscriminantAnalysis\n",
    "from sklearn.naive_bayes import GaussianNB\n",
    "from sklearn.svm import SVC\n"
   ]
  },
  {
   "cell_type": "code",
   "execution_count": 18,
   "id": "b1d0d882-c55a-427b-a08b-5046dff62ec6",
   "metadata": {},
   "outputs": [],
   "source": [
    "url = \"https://archive.ics.uci.edu/ml/machine-learning-databases/iris/iris.data\"\n",
    "names = ['sepal-length', 'sepal-width', 'petal-length', 'petal-width', 'class']\n",
    "dataset = pd.read_csv(url, names=names)"
   ]
  },
  {
   "cell_type": "code",
   "execution_count": 22,
   "id": "0c507205-fb97-43e7-a2cd-b929897be588",
   "metadata": {},
   "outputs": [
    {
     "name": "stdout",
     "output_type": "stream",
     "text": [
      "(150, 5)\n"
     ]
    }
   ],
   "source": [
    "print(dataset.shape)\n"
   ]
  },
  {
   "cell_type": "code",
   "execution_count": 28,
   "id": "35da2b42-5847-4fde-98cc-403e51f42739",
   "metadata": {},
   "outputs": [
    {
     "name": "stdout",
     "output_type": "stream",
     "text": [
      "    sepal-length  sepal-width  petal-length  petal-width        class\n",
      "0            5.1          3.5           1.4          0.2  Iris-setosa\n",
      "1            4.9          3.0           1.4          0.2  Iris-setosa\n",
      "2            4.7          3.2           1.3          0.2  Iris-setosa\n",
      "3            4.6          3.1           1.5          0.2  Iris-setosa\n",
      "4            5.0          3.6           1.4          0.2  Iris-setosa\n",
      "5            5.4          3.9           1.7          0.4  Iris-setosa\n",
      "6            4.6          3.4           1.4          0.3  Iris-setosa\n",
      "7            5.0          3.4           1.5          0.2  Iris-setosa\n",
      "8            4.4          2.9           1.4          0.2  Iris-setosa\n",
      "9            4.9          3.1           1.5          0.1  Iris-setosa\n",
      "10           5.4          3.7           1.5          0.2  Iris-setosa\n",
      "11           4.8          3.4           1.6          0.2  Iris-setosa\n",
      "12           4.8          3.0           1.4          0.1  Iris-setosa\n",
      "13           4.3          3.0           1.1          0.1  Iris-setosa\n",
      "14           5.8          4.0           1.2          0.2  Iris-setosa\n",
      "15           5.7          4.4           1.5          0.4  Iris-setosa\n",
      "16           5.4          3.9           1.3          0.4  Iris-setosa\n",
      "17           5.1          3.5           1.4          0.3  Iris-setosa\n",
      "18           5.7          3.8           1.7          0.3  Iris-setosa\n",
      "19           5.1          3.8           1.5          0.3  Iris-setosa\n"
     ]
    }
   ],
   "source": [
    "print(dataset.head(20))#starting 20 values\n"
   ]
  },
  {
   "cell_type": "code",
   "execution_count": 36,
   "id": "fd463c7e-6b04-444f-92a7-2f5c27d2e20a",
   "metadata": {},
   "outputs": [],
   "source": [
    "url = \"https://archive.ics.uci.edu/ml/machine-learning-databases/iris/iris.data\"\n",
    "names = ['sepal-base', 'sepal-width', 'petal-length', 'petal-width', 'class','description']#saple-area,sepal-base,....\n",
    "dataset = pd.read_csv(url, names=names)"
   ]
  },
  {
   "cell_type": "code",
   "execution_count": 38,
   "id": "83841ad0-7174-4463-9b42-18ff85ad8490",
   "metadata": {},
   "outputs": [
    {
     "name": "stdout",
     "output_type": "stream",
     "text": [
      "(150, 6)\n"
     ]
    }
   ],
   "source": [
    "print(dataset.shape)\n"
   ]
  },
  {
   "cell_type": "code",
   "execution_count": 40,
   "id": "8732134d-4032-405f-b689-a3dd09ff12cf",
   "metadata": {},
   "outputs": [
    {
     "name": "stdout",
     "output_type": "stream",
     "text": [
      "    sepal-base  sepal-width  petal-length  petal-width        class  \\\n",
      "0          5.1          3.5           1.4          0.2  Iris-setosa   \n",
      "1          4.9          3.0           1.4          0.2  Iris-setosa   \n",
      "2          4.7          3.2           1.3          0.2  Iris-setosa   \n",
      "3          4.6          3.1           1.5          0.2  Iris-setosa   \n",
      "4          5.0          3.6           1.4          0.2  Iris-setosa   \n",
      "5          5.4          3.9           1.7          0.4  Iris-setosa   \n",
      "6          4.6          3.4           1.4          0.3  Iris-setosa   \n",
      "7          5.0          3.4           1.5          0.2  Iris-setosa   \n",
      "8          4.4          2.9           1.4          0.2  Iris-setosa   \n",
      "9          4.9          3.1           1.5          0.1  Iris-setosa   \n",
      "10         5.4          3.7           1.5          0.2  Iris-setosa   \n",
      "11         4.8          3.4           1.6          0.2  Iris-setosa   \n",
      "12         4.8          3.0           1.4          0.1  Iris-setosa   \n",
      "13         4.3          3.0           1.1          0.1  Iris-setosa   \n",
      "14         5.8          4.0           1.2          0.2  Iris-setosa   \n",
      "15         5.7          4.4           1.5          0.4  Iris-setosa   \n",
      "16         5.4          3.9           1.3          0.4  Iris-setosa   \n",
      "17         5.1          3.5           1.4          0.3  Iris-setosa   \n",
      "18         5.7          3.8           1.7          0.3  Iris-setosa   \n",
      "19         5.1          3.8           1.5          0.3  Iris-setosa   \n",
      "\n",
      "    description  \n",
      "0           NaN  \n",
      "1           NaN  \n",
      "2           NaN  \n",
      "3           NaN  \n",
      "4           NaN  \n",
      "5           NaN  \n",
      "6           NaN  \n",
      "7           NaN  \n",
      "8           NaN  \n",
      "9           NaN  \n",
      "10          NaN  \n",
      "11          NaN  \n",
      "12          NaN  \n",
      "13          NaN  \n",
      "14          NaN  \n",
      "15          NaN  \n",
      "16          NaN  \n",
      "17          NaN  \n",
      "18          NaN  \n",
      "19          NaN  \n"
     ]
    }
   ],
   "source": [
    "print(dataset.head(20))#starting 20 values\n"
   ]
  },
  {
   "cell_type": "code",
   "execution_count": 44,
   "id": "4dc4a358-d128-4a72-a01e-2907e66e6eff",
   "metadata": {},
   "outputs": [
    {
     "name": "stdout",
     "output_type": "stream",
     "text": [
      "       sepal-base  sepal-width  petal-length  petal-width  description\n",
      "count  150.000000   150.000000    150.000000   150.000000          0.0\n",
      "mean     5.843333     3.054000      3.758667     1.198667          NaN\n",
      "std      0.828066     0.433594      1.764420     0.763161          NaN\n",
      "min      4.300000     2.000000      1.000000     0.100000          NaN\n",
      "25%      5.100000     2.800000      1.600000     0.300000          NaN\n",
      "50%      5.800000     3.000000      4.350000     1.300000          NaN\n",
      "75%      6.400000     3.300000      5.100000     1.800000          NaN\n",
      "max      7.900000     4.400000      6.900000     2.500000          NaN\n"
     ]
    }
   ],
   "source": [
    "print(dataset.describe())"
   ]
  },
  {
   "cell_type": "code",
   "execution_count": 48,
   "id": "45014557-b2b9-4083-a38b-cd3ce5c39b24",
   "metadata": {},
   "outputs": [
    {
     "name": "stdout",
     "output_type": "stream",
     "text": [
      "class\n",
      "Iris-setosa        50\n",
      "Iris-versicolor    50\n",
      "Iris-virginica     50\n",
      "dtype: int64\n"
     ]
    }
   ],
   "source": [
    "print(dataset.groupby('class').size())"
   ]
  },
  {
   "cell_type": "code",
   "execution_count": null,
   "id": "a9e40377-6569-4631-991b-e4c08e2fe0bd",
   "metadata": {},
   "outputs": [],
   "source": []
  },
  {
   "cell_type": "code",
   "execution_count": null,
   "id": "41d4797e-0f68-44c3-9297-ae646a02557e",
   "metadata": {},
   "outputs": [],
   "source": []
  }
 ],
 "metadata": {
  "kernelspec": {
   "display_name": "Python 3 (ipykernel)",
   "language": "python",
   "name": "python3"
  },
  "language_info": {
   "codemirror_mode": {
    "name": "ipython",
    "version": 3
   },
   "file_extension": ".py",
   "mimetype": "text/x-python",
   "name": "python",
   "nbconvert_exporter": "python",
   "pygments_lexer": "ipython3",
   "version": "3.12.7"
  }
 },
 "nbformat": 4,
 "nbformat_minor": 5
}
